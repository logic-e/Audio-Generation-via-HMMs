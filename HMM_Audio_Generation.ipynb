{
  "cells": [
    {
      "cell_type": "markdown",
      "metadata": {
        "id": "qDmcJqA-sQM2"
      },
      "source": [
        "# PA2.2 Part B - Hidden Markov Model (HMM) Based Music Generator\n",
        "\n",
        "### Introduction\n",
        "\n",
        "In this notebook, you will be generating Music (no vocals though) using an HMM via [Baum-Welch](https://en.wikipedia.org/wiki/Baum%E2%80%93Welch_algorithm) Training Algorithm.\n",
        "\n",
        "In the context of Music Generation, the states might represent underlying musical concepts (like note pitches or chord types), and observations could be specific notes or chords played at a given time. Hence, generating music involves moving through the states based on transition probabilities and producing musical notes based on the emission probabilities associated with each state. The emission probabilities dictate how likely it is to observe each possible note or chord (observation symbol) when in a given state.\n",
        "\n",
        "## Terminology\n",
        "\n",
        "__Baum Welch__: is an __*Unsupervised*__ training algorithm that involves adjusting the HMM's parameters (transition, emission, and initial state probabilities) to best account for the observed sequences.The training process involves:\n",
        "- Expectation step (E-step): Estimate the likely sequences of hidden states (could be something implicit like musical concepts like chords or rhythms) given the current parameters of the model and the observed data.\n",
        "- Maximization step (M-step): Update the model's parameters to maximize the likelihood of the observed data, based on the estimated sequences of hidden states.\n",
        "\n",
        "![Baum Welch](unsupervised_learning.png)\n",
        "\n",
        "## Resources\n",
        "\n",
        "For additional details of the working of Baum-Welch Training you can consult these medium articles [Baum-Welch algorithm](https://medium.com/mlearning-ai/baum-welch-algorithm-4d4514cf9dbe) and [Baum-Welch algorithm for training a Hidden Markov Model — Part 2 of the HMM series](https://medium.com/analytics-vidhya/baum-welch-algorithm-for-training-a-hidden-markov-model-part-2-of-the-hmm-series-d0e393b4fb86) as reference.\n",
        "\n",
        "A more technical overview is covered by Rabiner in his paper on [A Tutorial on Hidden Markov Models and Selected Applications in Speech Recognition](http://www.stat.columbia.edu/~liam/teaching/neurostat-fall17/papers/hmm/rabiner.pdf).\n",
        "\n",
        "If the above link is a bit difficult to digest, you can consult the following slides by Stanford's Dan Jurafsky in his course [LSA 352: Speech Recognition and Synthesis](https://nlp.stanford.edu/courses/lsa352/lsa352.lec7.6up.pdf).\n",
        "\n",
        "### Instructions\n",
        "\n",
        "- Follow along with the notebook, filling out the necessary code where instructed.\n",
        "\n",
        "- <span style=\"color: red;\">Read the Submission Instructions, Plagiarism Policy, and Late Days Policy in the attached PDF.</span>\n",
        "\n",
        "- <span style=\"color: red;\">Make sure to run all cells for credit.</span>\n",
        "\n",
        "- <span style=\"color: red;\">Do not remove any pre-written code.</span>\n",
        "\n",
        "- <span style=\"color: red;\">You must attempt all parts.</span>\n",
        "\n",
        "For this notebook, in addition to standard libraries i.e. `numpy`, `tqdm`, `hmmlearn` and `muspy`, you are permitted to incorporate supplementary libraries, but it is strongly advised to restrict their inclusion to a minimum. However, other HMM toolkits or libraries are strictly prohibited."
      ]
    },
    {
      "cell_type": "code",
      "execution_count": 1,
      "metadata": {
        "colab": {
          "base_uri": "https://localhost:8080/"
        },
        "id": "NXe6Lb5osQM7",
        "outputId": "bde5b4f7-c90b-405f-97d0-91c184758b3a"
      },
      "outputs": [
        {
          "output_type": "stream",
          "name": "stdout",
          "text": [
            "Collecting muspy\n",
            "  Downloading muspy-0.5.0-py3-none-any.whl (119 kB)\n",
            "\u001b[2K     \u001b[90m━━━━━━━━━━━━━━━━━━━━━━━━━━━━━━━━━━━━━━━━\u001b[0m \u001b[32m119.1/119.1 kB\u001b[0m \u001b[31m1.2 MB/s\u001b[0m eta \u001b[36m0:00:00\u001b[0m\n",
            "\u001b[?25hRequirement already satisfied: PyYAML>=3.0 in /usr/local/lib/python3.10/dist-packages (from muspy) (6.0.1)\n",
            "Requirement already satisfied: bidict>=0.21 in /usr/local/lib/python3.10/dist-packages (from muspy) (0.23.1)\n",
            "Requirement already satisfied: joblib>=0.15 in /usr/local/lib/python3.10/dist-packages (from muspy) (1.3.2)\n",
            "Requirement already satisfied: matplotlib>=1.5 in /usr/local/lib/python3.10/dist-packages (from muspy) (3.7.1)\n",
            "Collecting miditoolkit>=0.1 (from muspy)\n",
            "  Downloading miditoolkit-1.0.1-py3-none-any.whl (24 kB)\n",
            "Collecting mido>=1.0 (from muspy)\n",
            "  Downloading mido-1.3.2-py3-none-any.whl (54 kB)\n",
            "\u001b[2K     \u001b[90m━━━━━━━━━━━━━━━━━━━━━━━━━━━━━━━━━━━━━━━━\u001b[0m \u001b[32m54.6/54.6 kB\u001b[0m \u001b[31m3.4 MB/s\u001b[0m eta \u001b[36m0:00:00\u001b[0m\n",
            "\u001b[?25hRequirement already satisfied: music21>=6.0 in /usr/local/lib/python3.10/dist-packages (from muspy) (9.1.0)\n",
            "Collecting pretty-midi>=0.2 (from muspy)\n",
            "  Downloading pretty_midi-0.2.10.tar.gz (5.6 MB)\n",
            "\u001b[2K     \u001b[90m━━━━━━━━━━━━━━━━━━━━━━━━━━━━━━━━━━━━━━━━\u001b[0m \u001b[32m5.6/5.6 MB\u001b[0m \u001b[31m15.8 MB/s\u001b[0m eta \u001b[36m0:00:00\u001b[0m\n",
            "\u001b[?25h  Preparing metadata (setup.py) ... \u001b[?25l\u001b[?25hdone\n",
            "Collecting pypianoroll>=1.0 (from muspy)\n",
            "  Downloading pypianoroll-1.0.4-py3-none-any.whl (26 kB)\n",
            "Requirement already satisfied: requests>=2.0 in /usr/local/lib/python3.10/dist-packages (from muspy) (2.31.0)\n",
            "Requirement already satisfied: tqdm>=4.0 in /usr/local/lib/python3.10/dist-packages (from muspy) (4.66.2)\n",
            "Requirement already satisfied: contourpy>=1.0.1 in /usr/local/lib/python3.10/dist-packages (from matplotlib>=1.5->muspy) (1.2.0)\n",
            "Requirement already satisfied: cycler>=0.10 in /usr/local/lib/python3.10/dist-packages (from matplotlib>=1.5->muspy) (0.12.1)\n",
            "Requirement already satisfied: fonttools>=4.22.0 in /usr/local/lib/python3.10/dist-packages (from matplotlib>=1.5->muspy) (4.50.0)\n",
            "Requirement already satisfied: kiwisolver>=1.0.1 in /usr/local/lib/python3.10/dist-packages (from matplotlib>=1.5->muspy) (1.4.5)\n",
            "Requirement already satisfied: numpy>=1.20 in /usr/local/lib/python3.10/dist-packages (from matplotlib>=1.5->muspy) (1.25.2)\n",
            "Requirement already satisfied: packaging>=20.0 in /usr/local/lib/python3.10/dist-packages (from matplotlib>=1.5->muspy) (24.0)\n",
            "Requirement already satisfied: pillow>=6.2.0 in /usr/local/lib/python3.10/dist-packages (from matplotlib>=1.5->muspy) (9.4.0)\n",
            "Requirement already satisfied: pyparsing>=2.3.1 in /usr/local/lib/python3.10/dist-packages (from matplotlib>=1.5->muspy) (3.1.2)\n",
            "Requirement already satisfied: python-dateutil>=2.7 in /usr/local/lib/python3.10/dist-packages (from matplotlib>=1.5->muspy) (2.8.2)\n",
            "Collecting packaging>=20.0 (from matplotlib>=1.5->muspy)\n",
            "  Downloading packaging-23.2-py3-none-any.whl (53 kB)\n",
            "\u001b[2K     \u001b[90m━━━━━━━━━━━━━━━━━━━━━━━━━━━━━━━━━━━━━━━━\u001b[0m \u001b[32m53.0/53.0 kB\u001b[0m \u001b[31m4.7 MB/s\u001b[0m eta \u001b[36m0:00:00\u001b[0m\n",
            "\u001b[?25hRequirement already satisfied: chardet in /usr/local/lib/python3.10/dist-packages (from music21>=6.0->muspy) (5.2.0)\n",
            "Requirement already satisfied: jsonpickle in /usr/local/lib/python3.10/dist-packages (from music21>=6.0->muspy) (3.0.3)\n",
            "Requirement already satisfied: more-itertools in /usr/local/lib/python3.10/dist-packages (from music21>=6.0->muspy) (10.1.0)\n",
            "Requirement already satisfied: webcolors>=1.5 in /usr/local/lib/python3.10/dist-packages (from music21>=6.0->muspy) (1.13)\n",
            "Requirement already satisfied: six in /usr/local/lib/python3.10/dist-packages (from pretty-midi>=0.2->muspy) (1.16.0)\n",
            "Requirement already satisfied: scipy>=1.0.0 in /usr/local/lib/python3.10/dist-packages (from pypianoroll>=1.0->muspy) (1.11.4)\n",
            "Requirement already satisfied: charset-normalizer<4,>=2 in /usr/local/lib/python3.10/dist-packages (from requests>=2.0->muspy) (3.3.2)\n",
            "Requirement already satisfied: idna<4,>=2.5 in /usr/local/lib/python3.10/dist-packages (from requests>=2.0->muspy) (3.6)\n",
            "Requirement already satisfied: urllib3<3,>=1.21.1 in /usr/local/lib/python3.10/dist-packages (from requests>=2.0->muspy) (2.0.7)\n",
            "Requirement already satisfied: certifi>=2017.4.17 in /usr/local/lib/python3.10/dist-packages (from requests>=2.0->muspy) (2024.2.2)\n",
            "Building wheels for collected packages: pretty-midi\n",
            "  Building wheel for pretty-midi (setup.py) ... \u001b[?25l\u001b[?25hdone\n",
            "  Created wheel for pretty-midi: filename=pretty_midi-0.2.10-py3-none-any.whl size=5592289 sha256=9b7f3cc693e681e58d9b1d5468d9ba5bff493aad35476a154f63f6503bebf37b\n",
            "  Stored in directory: /root/.cache/pip/wheels/cd/a5/30/7b8b7f58709f5150f67f98fde4b891ebf0be9ef07a8af49f25\n",
            "Successfully built pretty-midi\n",
            "Installing collected packages: packaging, mido, pretty-midi, miditoolkit, pypianoroll, muspy\n",
            "  Attempting uninstall: packaging\n",
            "    Found existing installation: packaging 24.0\n",
            "    Uninstalling packaging-24.0:\n",
            "      Successfully uninstalled packaging-24.0\n",
            "Successfully installed miditoolkit-1.0.1 mido-1.3.2 muspy-0.5.0 packaging-23.2 pretty-midi-0.2.10 pypianoroll-1.0.4\n",
            "Collecting hmmlearn\n",
            "  Downloading hmmlearn-0.3.2-cp310-cp310-manylinux_2_17_x86_64.manylinux2014_x86_64.whl (161 kB)\n",
            "\u001b[2K     \u001b[90m━━━━━━━━━━━━━━━━━━━━━━━━━━━━━━━━━━━━━━━━\u001b[0m \u001b[32m161.1/161.1 kB\u001b[0m \u001b[31m1.9 MB/s\u001b[0m eta \u001b[36m0:00:00\u001b[0m\n",
            "\u001b[?25hRequirement already satisfied: numpy>=1.10 in /usr/local/lib/python3.10/dist-packages (from hmmlearn) (1.25.2)\n",
            "Requirement already satisfied: scikit-learn!=0.22.0,>=0.16 in /usr/local/lib/python3.10/dist-packages (from hmmlearn) (1.2.2)\n",
            "Requirement already satisfied: scipy>=0.19 in /usr/local/lib/python3.10/dist-packages (from hmmlearn) (1.11.4)\n",
            "Requirement already satisfied: joblib>=1.1.1 in /usr/local/lib/python3.10/dist-packages (from scikit-learn!=0.22.0,>=0.16->hmmlearn) (1.3.2)\n",
            "Requirement already satisfied: threadpoolctl>=2.0.0 in /usr/local/lib/python3.10/dist-packages (from scikit-learn!=0.22.0,>=0.16->hmmlearn) (3.4.0)\n",
            "Installing collected packages: hmmlearn\n",
            "Successfully installed hmmlearn-0.3.2\n"
          ]
        }
      ],
      "source": [
        "!pip install muspy\n",
        "!pip install hmmlearn\n",
        "\n"
      ]
    },
    {
      "cell_type": "markdown",
      "metadata": {
        "id": "PsiwkTFQsQM9"
      },
      "source": [
        "**MusPy** is an open source Python library for symbolic music generation. It provides essential tools for developing a music generation system, including dataset management, data I/O,  \n",
        "data preprocessing and model evaluation.  \n",
        "**Documentation**: https://salu133445.github.io/muspy/"
      ]
    },
    {
      "cell_type": "code",
      "source": [
        "import numpy as np\n",
        "from tqdm.notebook import tqdm as tqdm\n",
        "import muspy\n",
        "from hmmlearn.hmm import CategoricalHMM\n",
        "muspy.download_musescore_soundfont()"
      ],
      "metadata": {
        "colab": {
          "base_uri": "https://localhost:8080/"
        },
        "id": "QQh-grxJqdrD",
        "outputId": "82587492-a55f-4a06-fce1-b3b017acbaf5"
      },
      "execution_count": 2,
      "outputs": [
        {
          "output_type": "stream",
          "name": "stdout",
          "text": [
            "Start downloading MuseScore General soundfont.\n",
            "MuseScore General soundfont has successfully been downloaded to : /root/.muspy/musescore-general.\n"
          ]
        }
      ]
    },
    {
      "cell_type": "code",
      "execution_count": 3,
      "metadata": {
        "colab": {
          "base_uri": "https://localhost:8080/"
        },
        "id": "rsWE7Wm2sQM-",
        "outputId": "c6f0bc02-ee76-4167-a0da-593d0f3fe46d"
      },
      "outputs": [
        {
          "output_type": "stream",
          "name": "stdout",
          "text": [
            "[<class 'muspy.datasets.emopia.EMOPIADataset'>, <class 'muspy.datasets.essen.EssenFolkSongDatabase'>, <class 'muspy.datasets.haydn.HaydnOp20Dataset'>, <class 'muspy.datasets.hymnal.HymnalDataset'>, <class 'muspy.datasets.hymnal.HymnalTuneDataset'>, <class 'muspy.datasets.jsb.JSBChoralesDataset'>, <class 'muspy.datasets.lmd.LakhMIDIAlignedDataset'>, <class 'muspy.datasets.lmd.LakhMIDIDataset'>, <class 'muspy.datasets.lmd.LakhMIDIMatchedDataset'>, <class 'muspy.datasets.maestro.MAESTRODatasetV1'>, <class 'muspy.datasets.maestro.MAESTRODatasetV2'>, <class 'muspy.datasets.maestro.MAESTRODatasetV3'>, <class 'muspy.datasets.music21.Music21Dataset'>, <class 'muspy.datasets.musicnet.MusicNetDataset'>, <class 'muspy.datasets.nes.NESMusicDatabase'>, <class 'muspy.datasets.nmd.NottinghamDatabase'>, <class 'muspy.datasets.wikifonia.WikifoniaDataset'>]\n"
          ]
        }
      ],
      "source": [
        "#List of available datasets in muspy (could also add your own datasets)\n",
        "#Link: https://salu133445.github.io/muspy/datasets/datasets.html\n",
        "print(muspy.list_datasets())"
      ]
    },
    {
      "cell_type": "markdown",
      "metadata": {
        "id": "4Qov4gIDsQM-"
      },
      "source": [
        "Since Baum-Welch is known for its slow convergence, we'll take the lightest dataset available from muspy datasets called the __HaydnOp20__ Dataset consisting of 1.26 hours of recordings \\\n",
        "comprising of 24 classical songs"
      ]
    },
    {
      "cell_type": "code",
      "execution_count": 4,
      "metadata": {
        "colab": {
          "base_uri": "https://localhost:8080/"
        },
        "id": "L5DirT7v8yZD",
        "outputId": "ca706b59-d1ab-492a-aa12-6422b275e501"
      },
      "outputs": [
        {
          "output_type": "stream",
          "name": "stdout",
          "text": [
            "Mounted at /content/drive\n"
          ]
        }
      ],
      "source": [
        "from google.colab import drive\n",
        "drive.mount('/content/drive')"
      ]
    },
    {
      "cell_type": "code",
      "execution_count": 5,
      "metadata": {
        "colab": {
          "base_uri": "https://localhost:8080/"
        },
        "id": "c2o80mfysQM-",
        "outputId": "5ebe0737-1d8b-4381-876a-3e0e061443d9"
      },
      "outputs": [
        {
          "output_type": "stream",
          "name": "stdout",
          "text": [
            "Skip downloading as the `.muspy.success` file is found.\n",
            "Skip extracting as the `.muspy.success` file is found.\n",
            "Skip conversion as the `.muspy.success` file is found.\n"
          ]
        }
      ],
      "source": [
        "my_dataset = muspy.datasets.HaydnOp20Dataset(root = '/content/drive/MyDrive/GenAi/PA2.2_dataset/data', download_and_extract=True)\n",
        "my_dataset = my_dataset.convert()"
      ]
    },
    {
      "cell_type": "markdown",
      "metadata": {
        "id": "7b6potzksQM_"
      },
      "source": [
        "## Section 1: (HMM + Baum Welch From Scratch) [80 Marks]"
      ]
    },
    {
      "cell_type": "markdown",
      "metadata": {
        "id": "6yctaAo2sQM_"
      },
      "source": [
        "Muspy offers all datasets in 4 different representations as mentioned below:\n",
        "\n",
        "![Alt text](muspy_representations.png)\n",
        "\n",
        "Initially, we are only interested in modelling through time and to keep it simple, we'll begin with the __Pitch Representation__. More details here:\n",
        "\n",
        "![text](muspy_to_pitch.png)"
      ]
    },
    {
      "cell_type": "code",
      "execution_count": null,
      "metadata": {
        "id": "WP1PYmK5sQM_"
      },
      "outputs": [],
      "source": [
        "music_collection = []\n",
        "for music in my_dataset:\n",
        "    music_collection.append(muspy.to_pitch_representation(music, use_hold_state=True))"
      ]
    },
    {
      "cell_type": "markdown",
      "metadata": {
        "id": "fVrjFd3nsQM_"
      },
      "source": [
        "### Singing HMM Class\n",
        "The __Singing_HMM__ Class contains the following methods:\n",
        "\n",
        "1. `__init__(self, corpus)`: initializes the __POS_HMM__ and prepares it for the parameter initialization phase, contains:\n",
        "    - a corpus, consisting of unlabeled  sequences of musical units (i.e. all the music songs are flattened and concatenated)\n",
        "    - a hidden_state_size (default to 10), higher values capture more variability but converge slowly.\n",
        "    - a tuple of all the unique\n",
        "    - a dictionary for mapping the pitches to its unique integer identifier.\n",
        "    - some additional variables to reduce code redundancy in latter parts such as len()\n",
        "    - Transition, Emission and Initial State Probability Matrices which are initialized to Zeros.\n",
        "\n",
        "2. `init_mat(self, init_scheme='uniform')`: __(Can Be Modified)__ initializes the transition, emission and probability matrices either with a 'uniform' value or values sampled randomly from a uniform distribution and normalizes the matrice row wise.\n",
        "\n",
        "3. `forward(self, sequence)`: __(To Be Implemented)__ implements the Forward stage of the Forward-Backward Algorithm.\n",
        "- Feel free to modify function signature and return values.\n",
        "- Do not change the function name.\n",
        "4. `backward(self, sequence)`: __(To Be Implemented)__ implements the Forward stage of the Forward-Backward Algorithm.\n",
        "- Feel free to modify function signature and return values.\n",
        "- Do not change the function name.\n",
        "6. `baum_welch(sequence, alpha, beta)`: __(To Be Implemented)__ implements the Baum Welch Training Algorithm.\n",
        "- Feel free to modify function signature and return values.\n",
        "- Do not change the function name.\n",
        "7. `softmax(self, x, temperature=1.0)`: calculates the softmax of a given input x adjusting the sharpness of the distribution based on a temperature parameter.\n",
        "\n",
        "8. `temperature_choice(self, probabilities, temperature=1.0)`: applies a temperature scaling to a set of probabilities and selects an index based on the adjusted probabilities.\n",
        "\n",
        "9. `sample_sequence(self, length, strategy = \"temperature\", temperature = 1.0)`: __(Can Be Modified)__ generates a sequence of elements based on a given strategy (probabilistic or temperature) and a specified length. Strategies consists of:\n",
        "* `probabilistic` strategy:\n",
        "    -  Samples the initial state based on initial state probabilities.\n",
        "    -  Iterates over the desired sequence length, sampling an observation based on the current state's emission probabilities, appending the observation to the sequence, and then transitioning to the next state based on the current state's transition probabilities.\n",
        "* `temperature` strategy:\n",
        "    -  Similar to the probabilistic strategy but applies temperature scaling to the choice of initial state, observation sampling, and state transitions to adjust the randomness of the choices."
      ]
    },
    {
      "cell_type": "markdown",
      "metadata": {
        "id": "F2wVU1gJsQNA"
      },
      "source": [
        "##### __READ THIS BEFORE YOU BEGIN__:\n",
        "- The functions `init_mat` and  `sample_sequence` are although pre-defined and will work properly, but if you have a better strategy feel free to add or experiment. Just make sure not to overwrite the pre-existing code.\n",
        "- You are allowed to make helper functions, just make sure they are neatly structured i.e. have self-explanatory variable names, have an algorithmic flow to them and are sufficiently commented.\n",
        "- Make sure not to change any exisiting code unless allowed by the TA.\n",
        "\n",
        "__Tips for Baum-Welch Implementation__:\n",
        "\n",
        "1. Write the code for simple/vanilla Baum Welch Implementation first.\n",
        "2. You have the option to either go over the whole concatenated sequence or each music seperately (in a nested for loop) per iteration.\n",
        "3. If your vanilla Baum Welch Implementation compiles, most likely you would get overflow errors, arising from division by 0. This is due to long sequences yielding  \\\n",
        "smaller values of alpha and beta. Hence, wherever division occurs, the denominator variable (which is a result of multiplication with alpha or beta) is close to 0.\n",
        "\n",
        "I'll now suggest some ways with which the third point can be alleviated __(the hacky ways might/might not work, so be wary)__:\n",
        "\n",
        "- Hacky way #1 (Working with smaller chunks of observed sequences): For every iteration, rather than going over the concatenated music sequences or each music sequence, you can further break down your musical sequences into even smaller chunks and go over those instead.\n",
        "\n",
        "- Hacky way #2 (Add a small epsilon value to the denominator): Add a small episilon value like 1e-12 to the denominator wherever the division by 0 error occurs.\n",
        "\n",
        "- Proper way #1 (The [log-sum-exp](https://gregorygundersen.com/blog/2020/02/09/log-sum-exp/) trick): For an HMM, the smaller values can be dealt with by passing them through\n",
        "    log and converting the multiplications to additions and then brought back via exponentiating them.\n",
        "\n",
        "    - Another [intro](https://www.xarg.org/2016/06/the-log-sum-exp-trick-in-machine-learning/) for the log-sum-exp, if the previous one was unclear.\n",
        "    - [Hidden Markov Models By Herman Kemper](https://www.kamperh.com/nlp817/notes/05_hmm_notes.pdf) illustrates the use of log-sum-exp technique in Baum Welch Implementation (particularly Forward and Backward Passes).\n",
        "    - [Recition 7: Hidden Markov Models](https://www.cs.cmu.edu/~mgormley/courses/10601-s23/handouts/hw7_recitation_solution.pdf) gives an idea of the usage of log-sum-exp in the forward-backward algorithm.\n",
        "    - This HMM github [repo](https://github.com/jwmi/HMM/blob/master/hmm.jl) has implemented the log-sum-exp trick in julia language.\n",
        "    - The following [blog post](https://gregorygundersen.com/blog/2020/11/28/hmms/#implementation) might also be helpful for implementation of baum-welch using log-sum-exp trick.\n",
        "    - The following paper on [Numerically Stable Hidden Markov Models](http://bozeman.genome.washington.edu/compbio/mbt599_2006/hmm_scaling_revised.pdf) gives pseudocodes for working in the log domain for the HMMs (although not necessarily the log-sum-exp trick as is).\n",
        "\n",
        "- Proper way #2 (Scaling Factors): involves scaling the alpha and beta values to avoid underflows.\n",
        "    - The following blog post explains the maths behind scaling [Scaling Factors for Hidden Markov Models](https://gregorygundersen.com/blog/2022/08/13/hmm-scaling-factors/)\n",
        "    - This stackexchange post [Scaling step in Baum-Welch algorithm](https://stats.stackexchange.com/questions/274175/scaling-step-in-baum-welch-algorithm) contains two answers which can also be consulted.\n",
        "\n",
        "__How do you know the HMM is converging?__:\n",
        "\n",
        "Since Baum Welch algorithm guarantees convergence to the local (not global) maxima, near zero values are difficult to achieve.  \\\n",
        "Hence, a convergening HMM would have the log likelihoods going towards 0 (although still far from it). You can find a sample cell output  \\\n",
        "below showing the log likelihoods decreasing. Another way is to see is that the post-convergence generated music would be better than the  \\\n",
        "starting HMM (which has uniform or randomly initialized matrices).\n",
        "\n",
        "__How do you know the HMM has converged?__:\n",
        "\n",
        "One way is to monitor the difference between two successive log likelihoods and stop when the differences goes below a certain threshold. This has already been implemented for you."
      ]
    },
    {
      "cell_type": "code",
      "execution_count": null,
      "metadata": {
        "id": "S_YFCf-csQNB"
      },
      "outputs": [],
      "source": [
        "class Singing_HMM:\n",
        "    def __init__(self, corpus, hidden_state_size=10):\n",
        "        self.corpus = [seq.flatten().tolist() for seq in corpus]\n",
        "        self.hidden_state_size = hidden_state_size\n",
        "        self.music_seq = [note for seq in self.corpus for note in seq]\n",
        "        self.vocab = tuple(set(self.music_seq))\n",
        "        self.vocab2index = {note: i for i, note in enumerate(self.vocab)}\n",
        "        self.vocab_len = len(self.vocab)\n",
        "\n",
        "        self.transition_mat = np.zeros((self.hidden_state_size, self.hidden_state_size))\n",
        "        self.emission_mat = np.zeros((self.hidden_state_size, self.vocab_len))\n",
        "        self.initial_state_prob = np.zeros(self.hidden_state_size)\n",
        "\n",
        "        #----------------Add Any Additional Code Below This Line----------------\n",
        "\n",
        "    @staticmethod\n",
        "    def log_sum_exp(x, axis=None):\n",
        "      if x.ndim > 1:\n",
        "        x_max = np.max(x, axis=axis, keepdims=True)\n",
        "        return x_max + np.log(np.sum(np.exp(x - x_max), axis=axis, keepdims=True))\n",
        "      else:\n",
        "        x_max = np.max(x)\n",
        "        return x_max + np.log(np.sum(np.exp(x - x_max)))\n",
        "\n",
        "\n",
        "\n",
        "    #Feel free to define any helper functions\n",
        "\n",
        "    def init_mat(self, init_scheme='uniform'): # Can be optionally modified for another initialization scheme (not necessary for the assignment)\n",
        "        if init_scheme == 'uniform':\n",
        "            self.transition_mat = np.ones((self.hidden_state_size, self.hidden_state_size))\n",
        "            self.emission_mat = np.ones((self.hidden_state_size, self.vocab_len))\n",
        "            self.initial_state_prob = np.ones(self.hidden_state_size)\n",
        "        elif init_scheme == 'random':\n",
        "            self.transition_mat = np.random.rand(self.hidden_state_size, self.hidden_state_size)\n",
        "            self.emission_mat = np.random.rand(self.hidden_state_size, self.vocab_len)\n",
        "            self.initial_state_prob = np.random.rand(self.hidden_state_size)\n",
        "\n",
        "        self.transition_mat /= self.transition_mat.sum(axis=1, keepdims=True)\n",
        "        self.emission_mat /= self.emission_mat.sum(axis=1, keepdims=True)\n",
        "        self.initial_state_prob /= self.initial_state_prob.sum()\n",
        "\n",
        "    def forward(self, sequence):\n",
        "        # log_sum_values = np.zeros((len(sequence) - 1, self.hidden_state_size))\n",
        "        \"\"\"\n",
        "        Forward algorithm for calculating the probabilities of a sequence.\n",
        "        \"\"\"\n",
        "        log_alpha = np.zeros((len(sequence), self.hidden_state_size))\n",
        "        log_alpha[0, :] = self.initial_state_prob * self.emission_mat[:, self.vocab2index[sequence[0]]]\n",
        "\n",
        "        for t in range(1, len(sequence)):\n",
        "            for j in range(self.hidden_state_size):\n",
        "              log_sum = np.zeros(self.hidden_state_size)\n",
        "              for i in range(self.hidden_state_size):\n",
        "                log_sum[i] = log_alpha[t - 1, i] + np.log(self.transition_mat[i, j])\n",
        "                log_alpha[t, j] = self.log_sum_exp(log_sum) + np.log(self.emission_mat[j, self.vocab2index[sequence[t]]])\n",
        "              # log_sum_values[t-1]=log_sum\n",
        "\n",
        "\n",
        "                #alpha[t, j] = alpha[t-1].dot(self.transition_mat[:, j]) * self.emission_mat[j, self.vocab2index[sequence[t]]]\n",
        "\n",
        "\n",
        "        return log_alpha\n",
        "\n",
        "    def backward(self, sequence):\n",
        "        # log_sum_values = np.zeros((len(sequence) - 1, self.hidden_state_size))  # Initialize 2D array to store log_sum[i] values\n",
        "\n",
        "        \"\"\"\n",
        "        Backward algorithm for calculating the probabilities of a sequence.\n",
        "        \"\"\"\n",
        "        log_beta = np.zeros((len(sequence), self.hidden_state_size))\n",
        "        log_beta[len(sequence) - 1] = 0\n",
        "\n",
        "        for t in range(len(sequence) - 2, -1, -1):\n",
        "          for i in range(self.hidden_state_size):\n",
        "            log_sum = np.zeros(self.hidden_state_size)\n",
        "            for j in range(self.hidden_state_size):\n",
        "              log_sum[j] = np.log(self.transition_mat[i, j]) + \\\n",
        "                         np.log(self.emission_mat[j, self.vocab2index[sequence[t + 1]]]) + \\\n",
        "                         log_beta[t + 1, j]\n",
        "            # log_sum_values[t-1] = log_sum\n",
        "              log_beta[t, i] = self.log_sum_exp(log_sum)\n",
        "\n",
        "              #beta[t, i] = np.sum(beta[t+1] * self.transition_mat[i, :] * self.emission_mat[:, self.vocab2index[sequence[t+1]]])\n",
        "\n",
        "        return log_beta\n",
        "\n",
        "    def baum_welch(self, n_iter=100, tol=1e-4):\n",
        "        \"\"\"\n",
        "        Perform Baum-Welch training to update the model's parameters.\n",
        "        \"\"\"\n",
        "\n",
        "        prev_log_likelihood = float('-inf')  # Initialize with negative infinity (DO NOT CHANGE THIS VARIABLE)\n",
        "\n",
        "        for iteration in tqdm(range(n_iter), desc=\"Training Progress\", leave=True):\n",
        "            log_likelihood = 0 # Log likelihood for this iteration (DO NOT CHANGE THIS VARIABLE)\n",
        "            #----------------Add Your Code Here----------------\n",
        "            A_new = np.zeros_like(self.transition_mat)\n",
        "            B_new = np.zeros_like(self.emission_mat)\n",
        "            Pi_new = np.zeros_like(self.initial_state_prob)\n",
        "            for sequence in self.corpus:\n",
        "              alpha = self.forward(sequence)\n",
        "              beta = self.backward(sequence)\n",
        "\n",
        "              # Calculating sequence log likelihood\n",
        "              log_likelihood_seq = self.log_sum_exp(alpha[-1])\n",
        "              log_likelihood += log_likelihood_seq\n",
        "\n",
        "              # Calculating gamma and xi for the sequence\n",
        "              gamma = np.zeros((len(sequence), self.hidden_state_size))\n",
        "              xi = np.zeros((len(sequence) - 1, self.hidden_state_size, self.hidden_state_size))\n",
        "\n",
        "              for t in range(len(sequence)):\n",
        "                log_gamma_t = alpha[t] + beta[t] - self.log_sum_exp(alpha[t] + beta[t], axis=1)\n",
        "                gamma[t] = np.exp(log_gamma_t)  # Converting back to probability space for updating params\n",
        "\n",
        "              for x in range(len(sequence) - 1):\n",
        "                for y in range(self.hidden_state_size):\n",
        "                  for z in range(self.hidden_state_size):\n",
        "                    alpha_value = alpha[x, y]\n",
        "                    transition_log_prob = np.log(self.transition_mat[y, z])\n",
        "                    emission_log_prob = np.log(self.emission_mat[z, self.vocab2index[sequence[x+1]]])\n",
        "                    beta_value = beta[x+1, z]\n",
        "                    log_xi = alpha_value + transition_log_prob + emission_log_prob + beta_value - log_likelihood_seq\n",
        "                    xi[x, y, z] = np.exp(log_xi)  # Converting back to probability space for updating params\n",
        "\n",
        "\n",
        "              A_new += np.sum(xi, axis=0)\n",
        "              for t in range(len(sequence)):\n",
        "                B_new[:, self.vocab2index[sequence[t]]] += gamma[t]\n",
        "\n",
        "                # Updating initial state distribution\n",
        "              Pi_new += gamma[0]\n",
        "\n",
        "                # Normalizing A, B, Pi to get the new model parameters\n",
        "            self.transition_mat = A_new / np.sum(A_new, axis=1, keepdims=True)\n",
        "            self.emission_mat = B_new / np.sum(B_new, axis=1, keepdims=True)\n",
        "            self.initial_state_prob = Pi_new / np.sum(Pi_new)\n",
        "\n",
        "\n",
        "\n",
        "\n",
        "\n",
        "\n",
        "\n",
        "\n",
        "\n",
        "\n",
        "\n",
        "\n",
        "\n",
        "\n",
        "\n",
        "\n",
        "\n",
        "\n",
        "\n",
        "            #----------------Do Not Modify The Code Below This Line----------------\n",
        "\n",
        "            if iteration == 0:\n",
        "                convergence_rate = convergence_diff = np.nan  # Print nan for the first iteration\n",
        "            else:\n",
        "                convergence_diff = np.abs(log_likelihood - prev_log_likelihood)\n",
        "                convergence_rate = convergence_diff / np.abs(prev_log_likelihood)\n",
        "\n",
        "            #Note that Log Likelihoods would be negative and would increase (i.e. go in the direction of 0) as the model converges.\n",
        "            # Log Likelihoods may be far from 0, but the increasing trend should remain present.\n",
        "            tqdm.write(f\"Iteration {iteration + 1}: Log Likelihood: {log_likelihood}, Convergence Difference: {convergence_diff} , Convergence Rate: {convergence_rate}\")\n",
        "\n",
        "            if iteration > 0 and convergence_rate < tol:\n",
        "                tqdm.write(\"Convergence achieved.\")\n",
        "                break\n",
        "\n",
        "            prev_log_likelihood = log_likelihood\n",
        "\n",
        "    def softmax(self, x, temperature=1.0):\n",
        "        '''Compute softmax values for each set of scores in x.'''\n",
        "        e_x = np.exp((x - np.max(x)) / temperature)\n",
        "        return e_x / e_x.sum()\n",
        "\n",
        "    def temperature_choice(self, probabilities, temperature=1.0):\n",
        "        '''Apply temperature to probabilities and make a choice.'''\n",
        "        adjusted_probs = self.softmax(np.log(probabilities + 1e-9), temperature)  # Adding epsilon to avoid log(0)\n",
        "        return np.random.choice(len(probabilities), p=adjusted_probs)\n",
        "\n",
        "    def sample_sequence(self, length, strategy = \"temperature\", temperature = 1.0):\n",
        "        sequence = []\n",
        "        if strategy == 'probabilistic':\n",
        "            # Sample the initial state\n",
        "            state = np.random.choice(self.hidden_state_size, p=self.initial_state_prob)\n",
        "            for _ in range(length):\n",
        "                # Sample an observation (note) based on the current state\n",
        "                note = np.random.choice(self.vocab, p=self.emission_mat[state])\n",
        "                sequence.append(note)\n",
        "                # Transition to the next state\n",
        "                state = np.random.choice(self.hidden_state_size, p=self.transition_mat[state])\n",
        "        elif strategy == 'temperature':\n",
        "            # Sample the initial state with temperature\n",
        "            state = self.temperature_choice(self.initial_state_prob, temperature)\n",
        "            for _ in range(length):\n",
        "                # Apply temperature to emission probabilities and sample a note\n",
        "                note = self.temperature_choice(self.emission_mat[state], temperature)\n",
        "                sequence.append(self.vocab[note])\n",
        "                # Transition to the next state with temperature\n",
        "                state = self.temperature_choice(self.transition_mat[state], temperature)\n",
        "        return sequence"
      ]
    },
    {
      "cell_type": "code",
      "execution_count": null,
      "metadata": {
        "colab": {
          "base_uri": "https://localhost:8080/",
          "height": 242,
          "referenced_widgets": [
            "ca18a68c748e4a5bb2a7c082538257cd",
            "cb88a71240c443ef9b5adf4c29bb1d90",
            "c301c87e98434873acecb6e540153933",
            "04a46ace6b83487f89cb08469be60ce1",
            "8371e46d6b01475b9227bf46f759153b",
            "721aeda3a4494ca48cd05b1ff254c57d",
            "662913c46f67401c8ccbd96f9e8f233d",
            "7562dcbf3f99488da9939d5d434641b4",
            "136d68ba50044df6a13013244ddb3ebf",
            "169847f1a7b044b9bce104a3927bbd0c",
            "95f48c44557c447c8062759831fe825a"
          ]
        },
        "id": "WxySO3PisQNB",
        "outputId": "434660b3-0039-4e92-c649-c40044f4feed"
      },
      "outputs": [
        {
          "output_type": "display_data",
          "data": {
            "text/plain": [
              "Training Progress:   0%|          | 0/10 [00:00<?, ?it/s]"
            ],
            "application/vnd.jupyter.widget-view+json": {
              "version_major": 2,
              "version_minor": 0,
              "model_id": "ca18a68c748e4a5bb2a7c082538257cd"
            }
          },
          "metadata": {}
        },
        {
          "output_type": "stream",
          "name": "stdout",
          "text": [
            "Iteration 1: Log Likelihood: -477879.25164318783, Convergence Difference: nan , Convergence Rate: nan\n",
            "Iteration 2: Log Likelihood: -98308.30500076982, Convergence Difference: 379570.94664241804 , Convergence Rate: 0.7942821232293792\n",
            "Iteration 3: Log Likelihood: -97530.83774709034, Convergence Difference: 777.4672536794824 , Convergence Rate: 0.007908459551544443\n",
            "Iteration 4: Log Likelihood: -93685.03601827337, Convergence Difference: 3845.801728816965 , Convergence Rate: 0.039431648672900874\n",
            "Iteration 5: Log Likelihood: -86792.14462301758, Convergence Difference: 6892.891395255792 , Convergence Rate: 0.07357515872557627\n",
            "Iteration 6: Log Likelihood: -82256.12173016275, Convergence Difference: 4536.022892854831 , Convergence Rate: 0.05226305805159079\n",
            "Iteration 7: Log Likelihood: -80606.38729283433, Convergence Difference: 1649.734437328414 , Convergence Rate: 0.020056068808353117\n",
            "Iteration 8: Log Likelihood: -80417.50744573558, Convergence Difference: 188.8798470987531 , Convergence Rate: 0.002343236726545912\n",
            "Iteration 9: Log Likelihood: -80316.71152396555, Convergence Difference: 100.79592177002633 , Convergence Rate: 0.0012534076841170657\n",
            "Iteration 10: Log Likelihood: -80250.87907520382, Convergence Difference: 65.83244876173558 , Convergence Rate: 0.0008196606598128953\n"
          ]
        }
      ],
      "source": [
        "#Specify values and run the code to test your implementation\n",
        "pos_hmm = Singing_HMM(corpus = music_collection, hidden_state_size =10)\n",
        "pos_hmm.init_mat(init_scheme = 'random') #Note: HMMs are sensitive to intialization schemes\n",
        "pos_hmm.baum_welch(tol = 1e-4, n_iter= 10)"
      ]
    },
    {
      "cell_type": "code",
      "execution_count": null,
      "metadata": {
        "id": "tyqROqAZsQNC"
      },
      "outputs": [],
      "source": [
        "notes_seq = pos_hmm.sample_sequence(1024, strategy= \"probabilistic\") #Feel free to experiment with the sampling strategy\n",
        "synthetic_music = muspy.from_pitch_representation(np.array(notes_seq), resolution=24, program=0, is_drum=False, use_hold_state=True, default_velocity=64)\n",
        "muspy.write_midi('/content/drive/MyDrive/GenAi/PA2.2_dataset/pitch_based.midi', synthetic_music) #Specify the path to save the MIDI file, name it \"pitch_based.mid\""
      ]
    },
    {
      "cell_type": "markdown",
      "metadata": {
        "id": "a25hTJMVsQNC"
      },
      "source": [
        "You can visualize your results here: https://cifkao.github.io/html-midi-player/  \n",
        "  \n",
        "Remember to brag about your generated music on Slack (You can use online __MIDI to WAV/MP3__ Converters)\n",
        "\n",
        "__*P.S*__: You can use muspy.write_audio to convert the music object directly to wav file but that requires installation of a few softwares (not worth the hassle).\n",
        "\n",
        "*You might notice that the results are although better than random but they are not as awe-inspiring as intended.\n",
        "The reason being that our model is unable to capture the  \\\n",
        "variability of the different music styles (our dataset comprises of). However, there is a way to generate better music, that is taking a sufficiently long MIDI  \\\n",
        "(could be other formats as well) sound track(s) of a single artist (EDM or any music which has repetitiveness in it) and refitting your HMM.  \\\n",
        "The relevent function here would be muspy.read_midi().  \\\n",
        "__After training on the notebook provided dataset, you are more than welcome to try it with your own curated dataset and see the results.  \\\n",
        "THIS IS OPTIONAL AND NOT MANDATORY__.*"
      ]
    },
    {
      "cell_type": "markdown",
      "metadata": {
        "id": "MzQlffKJsQNC"
      },
      "source": [
        "## Section 2: Synthetic Music Generation via __HMMLearn__ [20 Marks]"
      ]
    },
    {
      "cell_type": "markdown",
      "metadata": {
        "id": "BJE2YZsnsQNC"
      },
      "source": [
        "#### __Note:__ For any model that you train/fit, remember to set __verbose = True__"
      ]
    },
    {
      "cell_type": "code",
      "execution_count": 6,
      "metadata": {
        "id": "nRNT5zLusQND"
      },
      "outputs": [],
      "source": [
        "hidden_states = 32 #Number of hidden states in the HMM model (Feel free to change or experiment with this value)\n",
        "synthetic_music_sequence_length = 128 #Length of the synthetic music sequence to be generated (could be either a time step, an event or a note)"
      ]
    },
    {
      "cell_type": "markdown",
      "metadata": {
        "id": "klsexg44sQND"
      },
      "source": [
        "For starters, let's replicate what we did above manually with our HMM Library. Since, we already did pitch based representation,  \n",
        "let's do it for **Event Based Representation** (which is essentially denotes music as a sequence of events). So while pitch based representation  \n",
        "is between 0-128 unique pitch values, the event based representation is between 0-387 unique events."
      ]
    },
    {
      "cell_type": "code",
      "execution_count": 7,
      "metadata": {
        "id": "hL31-dcUFrjQ"
      },
      "outputs": [],
      "source": [
        "import numpy as np\n",
        "from hmmlearn import hmm\n",
        "\n",
        "music_collection = []\n",
        "for music in my_dataset:\n",
        "    music_collection.append(muspy.to_event_representation(\n",
        "        music,\n",
        "        use_single_note_off_event=False,\n",
        "        use_end_of_sequence_event=False,\n",
        "        encode_velocity=False,\n",
        "        force_velocity_event=True,\n",
        "        max_time_shift=100,\n",
        "        velocity_bins=32,\n",
        "        dtype=int  # Note: <class 'int'> is replaced with int\n",
        "    ))\n"
      ]
    },
    {
      "cell_type": "code",
      "execution_count": 8,
      "metadata": {
        "colab": {
          "base_uri": "https://localhost:8080/"
        },
        "id": "boZO05o3sQND",
        "outputId": "3ef73e39-20ed-4b73-fd09-bc27d771e41f"
      },
      "outputs": [
        {
          "output_type": "stream",
          "name": "stderr",
          "text": [
            "         1 -341041.20852393             +nan\n",
            "         2 -246409.37077765  +94631.83774628\n",
            "         3 -242343.56716340   +4065.80361425\n",
            "         4 -235623.65683487   +6719.91032853\n",
            "         5 -228631.36032095   +6992.29651393\n",
            "         6 -221798.95378898   +6832.40653196\n",
            "         7 -215848.67193660   +5950.28185238\n",
            "         8 -211472.36904498   +4376.30289162\n",
            "         9 -208091.04015775   +3381.32888724\n",
            "        10 -205308.27993978   +2782.76021796\n",
            "        11 -203145.25062401   +2163.02931578\n",
            "        12 -201498.31234618   +1646.93827783\n",
            "        13 -200233.01066918   +1265.30167700\n",
            "        14 -199203.80398059   +1029.20668859\n",
            "        15 -198285.35112048    +918.45286011\n",
            "        16 -197679.42038016    +605.93074032\n",
            "        17 -197179.88736731    +499.53301285\n",
            "        18 -196696.01860862    +483.86875869\n",
            "        19 -196215.74967921    +480.26892941\n",
            "        20 -195814.45216928    +401.29750993\n",
            "        21 -195467.19689949    +347.25526979\n",
            "        22 -195177.88536020    +289.31153929\n",
            "        23 -194926.70289069    +251.18246950\n",
            "        24 -194696.83991171    +229.86297898\n",
            "        25 -194468.85685725    +227.98305447\n",
            "        26 -194242.35938434    +226.49747290\n",
            "        27 -194029.41747813    +212.94190621\n",
            "        28 -193824.82425994    +204.59321819\n",
            "        29 -193628.71550974    +196.10875019\n",
            "        30 -193435.72399984    +192.99150990\n",
            "        31 -193238.15084143    +197.57315841\n",
            "        32 -193048.24275035    +189.90809108\n",
            "        33 -192873.13354335    +175.10920700\n",
            "        34 -192710.59985331    +162.53369003\n",
            "        35 -192567.53924927    +143.06060404\n",
            "        36 -192457.95047082    +109.58877845\n",
            "        37 -192365.68230013     +92.26817069\n",
            "        38 -192273.67627674     +92.00602339\n",
            "        39 -192184.48347563     +89.19280111\n",
            "        40 -192098.64012043     +85.84335520\n",
            "        41 -192006.53728572     +92.10283471\n",
            "        42 -191914.74215178     +91.79513394\n",
            "        43 -191820.78176805     +93.96038373\n",
            "        44 -191718.23402287    +102.54774518\n",
            "        45 -191612.16100465    +106.07301822\n",
            "        46 -191511.79366970    +100.36733496\n",
            "        47 -191415.81853698     +95.97513272\n",
            "        48 -191322.74232635     +93.07621063\n",
            "        49 -191232.58553408     +90.15679227\n",
            "        50 -191131.02430429    +101.56122979\n",
            "        51 -191031.45932074     +99.56498355\n",
            "        52 -190946.47853239     +84.98078835\n",
            "        53 -190866.71063699     +79.76789540\n",
            "        54 -190790.74332423     +75.96731276\n",
            "        55 -190719.04857165     +71.69475258\n",
            "        56 -190648.98428244     +70.06428921\n",
            "        57 -190580.91313567     +68.07114677\n",
            "        58 -190503.28349818     +77.62963748\n",
            "        59 -190397.51917801    +105.76432018\n",
            "        60 -190301.31513279     +96.20404522\n",
            "        61 -190238.99609059     +62.31904220\n",
            "        62 -190184.06531668     +54.93077391\n",
            "        63 -190133.02051809     +51.04479860\n",
            "        64 -190084.04708390     +48.97343419\n",
            "        65 -190031.37206361     +52.67502029\n",
            "        66 -189965.27094904     +66.10111457\n",
            "        67 -189900.19998989     +65.07095915\n",
            "        68 -189828.20511835     +71.99487154\n",
            "        69 -189756.15651768     +72.04860066\n",
            "        70 -189696.00033749     +60.15618019\n",
            "        71 -189644.77997070     +51.22036680\n",
            "        72 -189596.91755415     +47.86241655\n",
            "        73 -189546.32813810     +50.58941605\n",
            "        74 -189494.47978354     +51.84835455\n",
            "        75 -189456.51909216     +37.96069139\n",
            "        76 -189422.97865750     +33.54043465\n",
            "        77 -189387.86505876     +35.11359874\n",
            "        78 -189352.23366368     +35.63139508\n",
            "        79 -189317.90303915     +34.33062452\n",
            "        80 -189283.34905952     +34.55397963\n",
            "        81 -189248.07163734     +35.27742218\n",
            "        82 -189211.12839084     +36.94324651\n",
            "        83 -189167.11915518     +44.00923566\n",
            "        84 -189121.99056144     +45.12859374\n",
            "        85 -189079.47841148     +42.51214996\n",
            "        86 -189044.29136605     +35.18704543\n",
            "        87 -189014.49062926     +29.80073678\n",
            "        88 -188987.36830241     +27.12232685\n",
            "        89 -188961.21723244     +26.15106997\n",
            "        90 -188934.85130814     +26.36592430\n",
            "        91 -188909.47454032     +25.37676783\n",
            "        92 -188880.30386886     +29.17067145\n",
            "        93 -188849.26300287     +31.04086599\n",
            "        94 -188818.78718017     +30.47582271\n",
            "        95 -188789.78847597     +28.99870420\n",
            "        96 -188767.56806476     +22.22041121\n",
            "        97 -188749.16428691     +18.40377784\n",
            "        98 -188730.26137025     +18.90291666\n",
            "        99 -188709.04832925     +21.21304100\n",
            "       100 -188686.23947652     +22.80885273\n"
          ]
        }
      ],
      "source": [
        "lengths = [len(sequence) for sequence in music_collection]\n",
        "X = np.concatenate(music_collection).reshape(-1, 1)  # Reshaping for hmmlearn\n",
        "\n",
        "\n",
        "\n",
        "model = hmm.CategoricalHMM(n_components=hidden_states, n_iter=100, random_state=42,verbose=True)\n",
        "model.fit(X, lengths)\n",
        "\n",
        "generated_sequence, _ = model.sample(synthetic_music_sequence_length)\n"
      ]
    },
    {
      "cell_type": "code",
      "execution_count": null,
      "metadata": {
        "id": "_7EPMsNEsQND"
      },
      "outputs": [],
      "source": [
        "#Sampling a sequence of music from the model and save as a MIDI file, name it \"event_based.mid\"\n",
        "\n",
        "generated_events = generated_sequence.flatten().astype(int)\n",
        "\n",
        "\n",
        "synthetic_music = muspy.from_event_representation(\n",
        "    generated_events,\n",
        "    resolution=24,\n",
        "    program=0,\n",
        "    is_drum=False,\n",
        "    use_single_note_off_event=False,\n",
        "    use_end_of_sequence_event=False,\n",
        "    max_time_shift=100,\n",
        "    velocity_bins=32,\n",
        "    default_velocity=64,\n",
        "    duplicate_note_mode='fifo'\n",
        ")\n",
        "\n",
        "# Save as MIDI file\n",
        "muspy.write_midi('/content/drive/MyDrive/GenAi/PA2.2_dataset/event_based.midi', synthetic_music)\n"
      ]
    },
    {
      "cell_type": "markdown",
      "metadata": {
        "id": "Y8wXLYtxsQND"
      },
      "source": [
        "To add some fun, lets take it up a notch and go for the __Note Based Representation__.  \n",
        "More on that here:\n",
        "1. https://muspy.readthedocs.io/en/v0.3.0/representations/note.html\n",
        "2. https://salu133445.github.io/muspy/classes/note.html"
      ]
    },
    {
      "cell_type": "markdown",
      "metadata": {
        "id": "bW3jaBacsQNE"
      },
      "source": [
        "**Hint:** This is a bit tricky since we have 4 features per observation. We'll leave it to you to devise a way to deal with it.  \\\n",
        "There are alot of approaches which can be used. As some features are categorical, and some are continuous, hence you can try different HMMs types or a single HMM to rule them all. Just generate some good music. \\\n",
        "Before you start, do take a peek of the available HMM models in the HMMlearn library __(you are allowed to import additional models if you want)__"
      ]
    },
    {
      "cell_type": "code",
      "execution_count": null,
      "metadata": {
        "id": "-a-GQ7ZssQNE"
      },
      "outputs": [],
      "source": [
        "#Write your code here and save the sampled sequence as MIDI file, name it \"note_based.mid\"\n",
        "note_based_collection = [muspy.to_note_representation(music, encode_velocity=True) for music in my_dataset]\n",
        "X = np.concatenate([np.array(music) for music in note_based_collection])\n"
      ]
    },
    {
      "cell_type": "code",
      "source": [
        "continuous_features = []  # For time, duration, velocity\n",
        "discrete_features = []    # For pitch\n",
        "\n",
        "for music in note_based_collection:\n",
        "    # Assuming music is a N x 4 array: columns are [time, pitch, duration, velocity]\n",
        "    continuous_data = music[:, [0, 2, 3]]  # Selecting time, duration, velocity\n",
        "    pitches = music[:, 1]  # Pitch is the second column\n",
        "\n",
        "    continuous_features.append(continuous_data)\n",
        "    discrete_features.append(pitches)\n",
        "\n",
        "X_continuous = np.concatenate(continuous_features).reshape(-1, 3)  # 3 continuous features\n",
        "X_discrete = np.concatenate(discrete_features).reshape(-1, 1)\n",
        "lengths = [len(music) for music in note_based_collection]\n",
        "\n",
        "continuous_model = hmm.GaussianHMM(n_components=5, n_iter=100, random_state=42,verbose=True)\n",
        "continuous_model.fit(X_continuous, lengths)\n",
        "\n"
      ],
      "metadata": {
        "colab": {
          "base_uri": "https://localhost:8080/",
          "height": 1000
        },
        "id": "WigOCkkd7Tjr",
        "outputId": "5ee2e3c8-8a33-41b0-d52a-9b7be06ecf0f"
      },
      "execution_count": null,
      "outputs": [
        {
          "output_type": "stream",
          "name": "stderr",
          "text": [
            "         1 -262138.04295325             +nan\n",
            "         2 -178282.20293057  +83855.84002268\n",
            "         3 -171238.22702849   +7043.97590208\n",
            "         4 -166600.43893633   +4637.78809216\n",
            "         5 -164633.21585829   +1967.22307804\n",
            "         6 -164378.24483998    +254.97101831\n",
            "         7 -164347.63635833     +30.60848165\n",
            "         8 -164343.02066796      +4.61569038\n",
            "         9 -164340.88342502      +2.13724294\n",
            "        10 -164339.43457096      +1.44885405\n",
            "        11 -164338.50498083      +0.92959013\n",
            "        12 -164337.83377561      +0.67120523\n",
            "        13 -164337.28773991      +0.54603570\n",
            "        14 -164336.95476054      +0.33297937\n",
            "        15 -164336.65048398      +0.30427656\n",
            "        16 -164336.39892074      +0.25156324\n",
            "        17 -164336.18850650      +0.21041424\n",
            "        18 -164336.00437300      +0.18413351\n",
            "        19 -164335.81965667      +0.18471633\n",
            "        20 -164335.63990141      +0.17975526\n",
            "        21 -164335.45531701      +0.18458439\n",
            "        22 -164335.29392073      +0.16139629\n",
            "        23 -164335.08974986      +0.20417087\n",
            "        24 -164334.91602016      +0.17372970\n",
            "        25 -164334.70110230      +0.21491786\n",
            "        26 -164334.53547114      +0.16563116\n",
            "        27 -164334.35218410      +0.18328704\n",
            "        28 -164334.15917214      +0.19301195\n",
            "        29 -164333.90348214      +0.25569000\n",
            "        30 -164333.71498527      +0.18849687\n",
            "        31 -164333.51041694      +0.20456833\n",
            "        32 -164333.25503673      +0.25538021\n",
            "        33 -164333.04778233      +0.20725440\n",
            "        34 -164332.79164024      +0.25614210\n",
            "        35 -164332.56093825      +0.23070199\n",
            "        36 -164332.25256541      +0.30837284\n",
            "        37 -164331.99464012      +0.25792529\n",
            "        38 -164331.74243481      +0.25220531\n",
            "        39 -164331.43101034      +0.31142447\n",
            "        40 -164331.10727579      +0.32373455\n",
            "        41 -164330.84420079      +0.26307500\n",
            "        42 -164330.46681457      +0.37738622\n",
            "        43 -164330.16073348      +0.30608109\n",
            "        44 -164329.79271991      +0.36801357\n",
            "        45 -164329.41214803      +0.38057189\n",
            "        46 -164329.00982653      +0.40232149\n",
            "        47 -164328.62306958      +0.38675695\n",
            "        48 -164328.18377027      +0.43929931\n",
            "        49 -164327.73829602      +0.44547425\n",
            "        50 -164327.27334965      +0.46494637\n",
            "        51 -164326.74206133      +0.53128831\n",
            "        52 -164326.21738075      +0.52468059\n",
            "        53 -164325.66383855      +0.55354220\n",
            "        54 -164325.08017348      +0.58366507\n",
            "        55 -164324.44464854      +0.63552494\n",
            "        56 -164323.76588021      +0.67876834\n",
            "        57 -164322.99407091      +0.77180929\n",
            "        58 -164322.25956589      +0.73450502\n",
            "        59 -164321.44899581      +0.81057008\n",
            "        60 -164320.59197628      +0.85701953\n",
            "        61 -164319.63254357      +0.95943271\n",
            "        62 -164318.62475216      +1.00779141\n",
            "        63 -164317.56196525      +1.06278691\n",
            "        64 -164316.38572560      +1.17623965\n",
            "        65 -164315.12298159      +1.26274400\n",
            "        66 -164313.70528269      +1.41769891\n",
            "        67 -164312.20827904      +1.49700364\n",
            "        68 -164310.55128654      +1.65699250\n",
            "        69 -164308.74226522      +1.80902132\n",
            "        70 -164306.73499498      +2.00727023\n",
            "        71 -164304.51886623      +2.21612875\n",
            "        72 -164302.06087135      +2.45799488\n",
            "        73 -164299.27205428      +2.78881707\n",
            "        74 -164296.21909110      +3.05296318\n",
            "        75 -164292.76244421      +3.45664690\n",
            "        76 -164288.87088902      +3.89155519\n",
            "        77 -164284.37167144      +4.49921758\n",
            "        78 -164279.25660704      +5.11506440\n",
            "        79 -164273.35203809      +5.90456895\n",
            "        80 -164266.49708244      +6.85495564\n",
            "        81 -164258.47208408      +8.02499836\n",
            "        82 -164249.02659675      +9.44548733\n",
            "        83 -164237.72503155     +11.30156520\n",
            "        84 -164224.06867392     +13.65635763\n",
            "        85 -164207.52046107     +16.54821285\n",
            "        86 -164187.05282981     +20.46763125\n",
            "        87 -164161.40962852     +25.64320129\n",
            "        88 -164128.83674699     +32.57288153\n",
            "        89 -164086.63525153     +42.20149546\n",
            "        90 -164030.79691657     +55.83833495\n",
            "        91 -163955.17438272     +75.62253385\n",
            "        92 -163849.69946616    +105.47491656\n",
            "        93 -163697.92640122    +151.77306494\n",
            "        94 -163471.42297700    +226.50342422\n",
            "        95 -163120.53142576    +350.89155125\n",
            "        96 -162561.36913552    +559.16229024\n",
            "        97 -161674.54964922    +886.81948630\n",
            "        98 -160387.65601286   +1286.89363637\n",
            "        99 -158919.73180918   +1467.92420368\n",
            "       100 -157777.78250675   +1141.94930242\n"
          ]
        },
        {
          "output_type": "execute_result",
          "data": {
            "text/plain": [
              "GaussianHMM(n_components=5, n_iter=100, random_state=42, verbose=True)"
            ],
            "text/html": [
              "<style>#sk-container-id-10 {color: black;background-color: white;}#sk-container-id-10 pre{padding: 0;}#sk-container-id-10 div.sk-toggleable {background-color: white;}#sk-container-id-10 label.sk-toggleable__label {cursor: pointer;display: block;width: 100%;margin-bottom: 0;padding: 0.3em;box-sizing: border-box;text-align: center;}#sk-container-id-10 label.sk-toggleable__label-arrow:before {content: \"▸\";float: left;margin-right: 0.25em;color: #696969;}#sk-container-id-10 label.sk-toggleable__label-arrow:hover:before {color: black;}#sk-container-id-10 div.sk-estimator:hover label.sk-toggleable__label-arrow:before {color: black;}#sk-container-id-10 div.sk-toggleable__content {max-height: 0;max-width: 0;overflow: hidden;text-align: left;background-color: #f0f8ff;}#sk-container-id-10 div.sk-toggleable__content pre {margin: 0.2em;color: black;border-radius: 0.25em;background-color: #f0f8ff;}#sk-container-id-10 input.sk-toggleable__control:checked~div.sk-toggleable__content {max-height: 200px;max-width: 100%;overflow: auto;}#sk-container-id-10 input.sk-toggleable__control:checked~label.sk-toggleable__label-arrow:before {content: \"▾\";}#sk-container-id-10 div.sk-estimator input.sk-toggleable__control:checked~label.sk-toggleable__label {background-color: #d4ebff;}#sk-container-id-10 div.sk-label input.sk-toggleable__control:checked~label.sk-toggleable__label {background-color: #d4ebff;}#sk-container-id-10 input.sk-hidden--visually {border: 0;clip: rect(1px 1px 1px 1px);clip: rect(1px, 1px, 1px, 1px);height: 1px;margin: -1px;overflow: hidden;padding: 0;position: absolute;width: 1px;}#sk-container-id-10 div.sk-estimator {font-family: monospace;background-color: #f0f8ff;border: 1px dotted black;border-radius: 0.25em;box-sizing: border-box;margin-bottom: 0.5em;}#sk-container-id-10 div.sk-estimator:hover {background-color: #d4ebff;}#sk-container-id-10 div.sk-parallel-item::after {content: \"\";width: 100%;border-bottom: 1px solid gray;flex-grow: 1;}#sk-container-id-10 div.sk-label:hover label.sk-toggleable__label {background-color: #d4ebff;}#sk-container-id-10 div.sk-serial::before {content: \"\";position: absolute;border-left: 1px solid gray;box-sizing: border-box;top: 0;bottom: 0;left: 50%;z-index: 0;}#sk-container-id-10 div.sk-serial {display: flex;flex-direction: column;align-items: center;background-color: white;padding-right: 0.2em;padding-left: 0.2em;position: relative;}#sk-container-id-10 div.sk-item {position: relative;z-index: 1;}#sk-container-id-10 div.sk-parallel {display: flex;align-items: stretch;justify-content: center;background-color: white;position: relative;}#sk-container-id-10 div.sk-item::before, #sk-container-id-10 div.sk-parallel-item::before {content: \"\";position: absolute;border-left: 1px solid gray;box-sizing: border-box;top: 0;bottom: 0;left: 50%;z-index: -1;}#sk-container-id-10 div.sk-parallel-item {display: flex;flex-direction: column;z-index: 1;position: relative;background-color: white;}#sk-container-id-10 div.sk-parallel-item:first-child::after {align-self: flex-end;width: 50%;}#sk-container-id-10 div.sk-parallel-item:last-child::after {align-self: flex-start;width: 50%;}#sk-container-id-10 div.sk-parallel-item:only-child::after {width: 0;}#sk-container-id-10 div.sk-dashed-wrapped {border: 1px dashed gray;margin: 0 0.4em 0.5em 0.4em;box-sizing: border-box;padding-bottom: 0.4em;background-color: white;}#sk-container-id-10 div.sk-label label {font-family: monospace;font-weight: bold;display: inline-block;line-height: 1.2em;}#sk-container-id-10 div.sk-label-container {text-align: center;}#sk-container-id-10 div.sk-container {/* jupyter's `normalize.less` sets `[hidden] { display: none; }` but bootstrap.min.css set `[hidden] { display: none !important; }` so we also need the `!important` here to be able to override the default hidden behavior on the sphinx rendered scikit-learn.org. See: https://github.com/scikit-learn/scikit-learn/issues/21755 */display: inline-block !important;position: relative;}#sk-container-id-10 div.sk-text-repr-fallback {display: none;}</style><div id=\"sk-container-id-10\" class=\"sk-top-container\"><div class=\"sk-text-repr-fallback\"><pre>GaussianHMM(n_components=5, n_iter=100, random_state=42, verbose=True)</pre><b>In a Jupyter environment, please rerun this cell to show the HTML representation or trust the notebook. <br />On GitHub, the HTML representation is unable to render, please try loading this page with nbviewer.org.</b></div><div class=\"sk-container\" hidden><div class=\"sk-item\"><div class=\"sk-estimator sk-toggleable\"><input class=\"sk-toggleable__control sk-hidden--visually\" id=\"sk-estimator-id-10\" type=\"checkbox\" checked><label for=\"sk-estimator-id-10\" class=\"sk-toggleable__label sk-toggleable__label-arrow\">GaussianHMM</label><div class=\"sk-toggleable__content\"><pre>GaussianHMM(n_components=5, n_iter=100, random_state=42, verbose=True)</pre></div></div></div></div></div>"
            ]
          },
          "metadata": {},
          "execution_count": 159
        }
      ]
    },
    {
      "cell_type": "code",
      "source": [
        "discrete_model = CategoricalHMM(n_components=8, n_iter=100,random_state=42, verbose=True)\n",
        "discrete_model.fit(X_discrete, lengths)\n"
      ],
      "metadata": {
        "colab": {
          "base_uri": "https://localhost:8080/",
          "height": 1000
        },
        "id": "6jFdspBmhxER",
        "outputId": "55c6d5ef-c74b-414b-88a4-d1217ca05225"
      },
      "execution_count": null,
      "outputs": [
        {
          "output_type": "stream",
          "name": "stderr",
          "text": [
            "         1 -107300.36336950             +nan\n",
            "         2  -84009.48833794  +23290.87503156\n",
            "         3  -83586.79680990    +422.69152804\n",
            "         4  -83199.75172469    +387.04508520\n",
            "         5  -82826.14301072    +373.60871397\n",
            "         6  -82327.96751371    +498.17549701\n",
            "         7  -81624.64003851    +703.32747520\n",
            "         8  -80782.34861834    +842.29142017\n",
            "         9  -79965.50481651    +816.84380182\n",
            "        10  -79391.94307966    +573.56173685\n",
            "        11  -79007.92357017    +384.01950949\n",
            "        12  -78788.48832894    +219.43524123\n",
            "        13  -78644.99218133    +143.49614762\n",
            "        14  -78543.27963819    +101.71254314\n",
            "        15  -78466.99860697     +76.28103122\n",
            "        16  -78401.30317728     +65.69542969\n",
            "        17  -78340.93614415     +60.36703313\n",
            "        18  -78283.16031667     +57.77582747\n",
            "        19  -78220.77870002     +62.38161666\n",
            "        20  -78159.65984474     +61.11885528\n",
            "        21  -78098.39852639     +61.26131835\n",
            "        22  -78007.37155353     +91.02697285\n",
            "        23  -77911.57065036     +95.80090317\n",
            "        24  -77851.63711987     +59.93353049\n",
            "        25  -77798.34785499     +53.28926489\n",
            "        26  -77747.80811203     +50.53974295\n",
            "        27  -77713.56090515     +34.24720688\n",
            "        28  -77680.84071939     +32.72018576\n",
            "        29  -77643.15092530     +37.68979409\n",
            "        30  -77608.82809974     +34.32282556\n",
            "        31  -77573.21634376     +35.61175598\n",
            "        32  -77532.62159314     +40.59475062\n",
            "        33  -77493.24110686     +39.38048629\n",
            "        34  -77451.36188075     +41.87922611\n",
            "        35  -77408.26245427     +43.09942648\n",
            "        36  -77366.89310126     +41.36935301\n",
            "        37  -77329.70411459     +37.18898668\n",
            "        38  -77295.14849019     +34.55562439\n",
            "        39  -77264.28719988     +30.86129031\n",
            "        40  -77236.81337028     +27.47382960\n",
            "        41  -77207.91897944     +28.89439084\n",
            "        42  -77178.09267459     +29.82630485\n",
            "        43  -77149.94851496     +28.14415964\n",
            "        44  -77124.09993261     +25.84858235\n",
            "        45  -77100.35317447     +23.74675814\n",
            "        46  -77078.17585240     +22.17732207\n",
            "        47  -77056.63250234     +21.54335005\n",
            "        48  -77035.22041772     +21.41208463\n",
            "        49  -77013.40691894     +21.81349877\n",
            "        50  -76990.85944254     +22.54747640\n",
            "        51  -76968.15169319     +22.70774935\n",
            "        52  -76946.37937141     +21.77232178\n",
            "        53  -76926.05260836     +20.32676305\n",
            "        54  -76907.10678922     +18.94581914\n",
            "        55  -76889.02057302     +18.08621620\n",
            "        56  -76870.87618731     +18.14438571\n",
            "        57  -76851.64035696     +19.23583034\n",
            "        58  -76830.89393698     +20.74641998\n",
            "        59  -76808.32439983     +22.56953715\n",
            "        60  -76783.19563151     +25.12876832\n",
            "        61  -76755.84730510     +27.34832641\n",
            "        62  -76726.94653460     +28.90077050\n",
            "        63  -76698.71301122     +28.23352339\n",
            "        64  -76673.34394539     +25.36906582\n",
            "        65  -76650.87721947     +22.46672593\n",
            "        66  -76631.14436402     +19.73285545\n",
            "        67  -76613.71221172     +17.43215230\n",
            "        68  -76598.01165276     +15.70055895\n",
            "        69  -76583.38014687     +14.63150589\n",
            "        70  -76568.75105167     +14.62909520\n",
            "        71  -76551.68266297     +17.06838869\n",
            "        72  -76534.96243819     +16.72022478\n",
            "        73  -76520.74784104     +14.21459715\n",
            "        74  -76507.78794739     +12.95989365\n",
            "        75  -76494.14866928     +13.63927811\n",
            "        76  -76477.44100966     +16.70765962\n",
            "        77  -76458.21072856     +19.23028110\n",
            "        78  -76438.14681633     +20.06391223\n",
            "        79  -76418.93867489     +19.20814144\n",
            "        80  -76402.60809605     +16.33057884\n",
            "        81  -76387.48048379     +15.12761227\n",
            "        82  -76371.60904430     +15.87143949\n",
            "        83  -76358.99869448     +12.61034982\n",
            "        84  -76346.15116559     +12.84752889\n",
            "        85  -76333.80585877     +12.34530682\n",
            "        86  -76325.51677836      +8.28908041\n",
            "        87  -76318.82422661      +6.69255175\n",
            "        88  -76312.77712072      +6.04710589\n",
            "        89  -76307.46344977      +5.31367095\n",
            "        90  -76302.96541862      +4.49803115\n",
            "        91  -76298.98483949      +3.98057913\n",
            "        92  -76295.17551956      +3.80931993\n",
            "        93  -76291.13087518      +4.04464438\n",
            "        94  -76286.02468224      +5.10619294\n",
            "        95  -76279.72903119      +6.29565104\n",
            "        96  -76274.01390935      +5.71512184\n",
            "        97  -76268.23315963      +5.78074972\n",
            "        98  -76261.81263140      +6.42052824\n",
            "        99  -76254.92132840      +6.89130300\n",
            "       100  -76247.64068151      +7.28064689\n"
          ]
        },
        {
          "output_type": "execute_result",
          "data": {
            "text/plain": [
              "CategoricalHMM(n_components=8, n_features=97, n_iter=100,\n",
              "               random_state=RandomState(MT19937) at 0x7C59E01B1A40,\n",
              "               verbose=True)"
            ],
            "text/html": [
              "<style>#sk-container-id-11 {color: black;background-color: white;}#sk-container-id-11 pre{padding: 0;}#sk-container-id-11 div.sk-toggleable {background-color: white;}#sk-container-id-11 label.sk-toggleable__label {cursor: pointer;display: block;width: 100%;margin-bottom: 0;padding: 0.3em;box-sizing: border-box;text-align: center;}#sk-container-id-11 label.sk-toggleable__label-arrow:before {content: \"▸\";float: left;margin-right: 0.25em;color: #696969;}#sk-container-id-11 label.sk-toggleable__label-arrow:hover:before {color: black;}#sk-container-id-11 div.sk-estimator:hover label.sk-toggleable__label-arrow:before {color: black;}#sk-container-id-11 div.sk-toggleable__content {max-height: 0;max-width: 0;overflow: hidden;text-align: left;background-color: #f0f8ff;}#sk-container-id-11 div.sk-toggleable__content pre {margin: 0.2em;color: black;border-radius: 0.25em;background-color: #f0f8ff;}#sk-container-id-11 input.sk-toggleable__control:checked~div.sk-toggleable__content {max-height: 200px;max-width: 100%;overflow: auto;}#sk-container-id-11 input.sk-toggleable__control:checked~label.sk-toggleable__label-arrow:before {content: \"▾\";}#sk-container-id-11 div.sk-estimator input.sk-toggleable__control:checked~label.sk-toggleable__label {background-color: #d4ebff;}#sk-container-id-11 div.sk-label input.sk-toggleable__control:checked~label.sk-toggleable__label {background-color: #d4ebff;}#sk-container-id-11 input.sk-hidden--visually {border: 0;clip: rect(1px 1px 1px 1px);clip: rect(1px, 1px, 1px, 1px);height: 1px;margin: -1px;overflow: hidden;padding: 0;position: absolute;width: 1px;}#sk-container-id-11 div.sk-estimator {font-family: monospace;background-color: #f0f8ff;border: 1px dotted black;border-radius: 0.25em;box-sizing: border-box;margin-bottom: 0.5em;}#sk-container-id-11 div.sk-estimator:hover {background-color: #d4ebff;}#sk-container-id-11 div.sk-parallel-item::after {content: \"\";width: 100%;border-bottom: 1px solid gray;flex-grow: 1;}#sk-container-id-11 div.sk-label:hover label.sk-toggleable__label {background-color: #d4ebff;}#sk-container-id-11 div.sk-serial::before {content: \"\";position: absolute;border-left: 1px solid gray;box-sizing: border-box;top: 0;bottom: 0;left: 50%;z-index: 0;}#sk-container-id-11 div.sk-serial {display: flex;flex-direction: column;align-items: center;background-color: white;padding-right: 0.2em;padding-left: 0.2em;position: relative;}#sk-container-id-11 div.sk-item {position: relative;z-index: 1;}#sk-container-id-11 div.sk-parallel {display: flex;align-items: stretch;justify-content: center;background-color: white;position: relative;}#sk-container-id-11 div.sk-item::before, #sk-container-id-11 div.sk-parallel-item::before {content: \"\";position: absolute;border-left: 1px solid gray;box-sizing: border-box;top: 0;bottom: 0;left: 50%;z-index: -1;}#sk-container-id-11 div.sk-parallel-item {display: flex;flex-direction: column;z-index: 1;position: relative;background-color: white;}#sk-container-id-11 div.sk-parallel-item:first-child::after {align-self: flex-end;width: 50%;}#sk-container-id-11 div.sk-parallel-item:last-child::after {align-self: flex-start;width: 50%;}#sk-container-id-11 div.sk-parallel-item:only-child::after {width: 0;}#sk-container-id-11 div.sk-dashed-wrapped {border: 1px dashed gray;margin: 0 0.4em 0.5em 0.4em;box-sizing: border-box;padding-bottom: 0.4em;background-color: white;}#sk-container-id-11 div.sk-label label {font-family: monospace;font-weight: bold;display: inline-block;line-height: 1.2em;}#sk-container-id-11 div.sk-label-container {text-align: center;}#sk-container-id-11 div.sk-container {/* jupyter's `normalize.less` sets `[hidden] { display: none; }` but bootstrap.min.css set `[hidden] { display: none !important; }` so we also need the `!important` here to be able to override the default hidden behavior on the sphinx rendered scikit-learn.org. See: https://github.com/scikit-learn/scikit-learn/issues/21755 */display: inline-block !important;position: relative;}#sk-container-id-11 div.sk-text-repr-fallback {display: none;}</style><div id=\"sk-container-id-11\" class=\"sk-top-container\"><div class=\"sk-text-repr-fallback\"><pre>CategoricalHMM(n_components=8, n_features=97, n_iter=100,\n",
              "               random_state=RandomState(MT19937) at 0x7C59E01B1A40,\n",
              "               verbose=True)</pre><b>In a Jupyter environment, please rerun this cell to show the HTML representation or trust the notebook. <br />On GitHub, the HTML representation is unable to render, please try loading this page with nbviewer.org.</b></div><div class=\"sk-container\" hidden><div class=\"sk-item\"><div class=\"sk-estimator sk-toggleable\"><input class=\"sk-toggleable__control sk-hidden--visually\" id=\"sk-estimator-id-11\" type=\"checkbox\" checked><label for=\"sk-estimator-id-11\" class=\"sk-toggleable__label sk-toggleable__label-arrow\">CategoricalHMM</label><div class=\"sk-toggleable__content\"><pre>CategoricalHMM(n_components=8, n_features=97, n_iter=100,\n",
              "               random_state=RandomState(MT19937) at 0x7C59E01B1A40,\n",
              "               verbose=True)</pre></div></div></div></div></div>"
            ]
          },
          "metadata": {},
          "execution_count": 160
        }
      ]
    },
    {
      "cell_type": "code",
      "source": [
        "#print(pitches)\n",
        "print(\"Unique pitches:\", np.unique(X_discrete))\n",
        "print(X_continuous)"
      ],
      "metadata": {
        "colab": {
          "base_uri": "https://localhost:8080/"
        },
        "id": "hQyEQ_W0fVwL",
        "outputId": "21955315-2857-4ec6-c5de-521401563d6c"
      },
      "execution_count": null,
      "outputs": [
        {
          "output_type": "stream",
          "name": "stdout",
          "text": [
            "Unique pitches: [36 37 38 39 40 41 42 43 44 45 46 47 48 49 50 51 52 53 54 55 56 57 58 59\n",
            " 60 61 62 63 64 65 66 67 68 69 70 71 72 73 74 75 76 77 78 79 80 81 82 83\n",
            " 84 85 86 87 88 89 90 91 93 95 96]\n",
            "[[   0   12   64]\n",
            " [   0   24   64]\n",
            " [   0   24   64]\n",
            " ...\n",
            " [2952   48   64]\n",
            " [2952   48   64]\n",
            " [2952   72   64]]\n"
          ]
        }
      ]
    },
    {
      "cell_type": "code",
      "source": [
        "# Generate a sequence from the continuous model\n",
        "generated_continuous, _ = continuous_model.sample(synthetic_music_sequence_length)\n",
        "\n",
        "# Generate a sequence from the discrete model\n",
        "generated_discrete, _ = discrete_model.sample(synthetic_music_sequence_length)\n"
      ],
      "metadata": {
        "id": "cDCqVErNfIjT"
      },
      "execution_count": null,
      "outputs": []
    },
    {
      "cell_type": "code",
      "source": [
        "combined_sequence = np.hstack((\n",
        "    generated_continuous[:, 0:1],  # Time\n",
        "    generated_discrete,            # Pitch\n",
        "    generated_continuous[:, 1:2],  # Duration\n",
        "    generated_continuous[:, 2:3]   # Velocity\n",
        "))\n",
        "combined_sequence = np.round(combined_sequence).astype(int)\n"
      ],
      "metadata": {
        "id": "nfPExngzoZn0"
      },
      "execution_count": null,
      "outputs": []
    },
    {
      "cell_type": "code",
      "source": [
        "# Calculate delta times\n",
        "delta_times = np.diff(combined_sequence[:, 0], prepend=0)\n",
        "\n",
        "# Ensure delta times are non-negative\n",
        "delta_times = np.maximum(delta_times, 0)\n",
        "\n",
        "# Replace the time column in the combined sequence with delta times\n",
        "combined_sequence[:, 0] = delta_times\n",
        "# Ensure pitch, duration, and velocity are within MIDI range and are integers\n",
        "combined_sequence[:, 1] = np.clip(combined_sequence[:, 1], 0, 127).astype(int)  # Pitch\n",
        "combined_sequence[:, 2] = np.clip(combined_sequence[:, 2], 1, np.inf).astype(int)  # Duration\n",
        "combined_sequence[:, 3] = np.clip(combined_sequence[:, 3], 0, 127).astype(int)  # Velocity\n"
      ],
      "metadata": {
        "id": "0VRx8tCgo1qL"
      },
      "execution_count": null,
      "outputs": []
    },
    {
      "cell_type": "code",
      "source": [
        "synthetic_music = muspy.from_note_representation(\n",
        "    combined_sequence,\n",
        "    resolution=24,\n",
        "    program=0,\n",
        "    is_drum=False,\n",
        "    use_start_end=True,\n",
        "    encode_velocity=True,\n",
        "    default_velocity=64\n",
        ")\n",
        "\n",
        "# Save as MIDI file\n",
        "muspy.write_midi('/content/drive/MyDrive/GenAi/PA2.2_dataset/notes_based.midi', synthetic_music)"
      ],
      "metadata": {
        "id": "9QovhQUM9ruS"
      },
      "execution_count": null,
      "outputs": []
    }
  ],
  "metadata": {
    "colab": {
      "provenance": []
    },
    "kernelspec": {
      "display_name": "ml",
      "language": "python",
      "name": "python3"
    },
    "language_info": {
      "codemirror_mode": {
        "name": "ipython",
        "version": 3
      },
      "file_extension": ".py",
      "mimetype": "text/x-python",
      "name": "python",
      "nbconvert_exporter": "python",
      "pygments_lexer": "ipython3",
      "version": "3.9.18"
    },
    "widgets": {
      "application/vnd.jupyter.widget-state+json": {
        "ca18a68c748e4a5bb2a7c082538257cd": {
          "model_module": "@jupyter-widgets/controls",
          "model_name": "HBoxModel",
          "model_module_version": "1.5.0",
          "state": {
            "_dom_classes": [],
            "_model_module": "@jupyter-widgets/controls",
            "_model_module_version": "1.5.0",
            "_model_name": "HBoxModel",
            "_view_count": null,
            "_view_module": "@jupyter-widgets/controls",
            "_view_module_version": "1.5.0",
            "_view_name": "HBoxView",
            "box_style": "",
            "children": [
              "IPY_MODEL_cb88a71240c443ef9b5adf4c29bb1d90",
              "IPY_MODEL_c301c87e98434873acecb6e540153933",
              "IPY_MODEL_04a46ace6b83487f89cb08469be60ce1"
            ],
            "layout": "IPY_MODEL_8371e46d6b01475b9227bf46f759153b"
          }
        },
        "cb88a71240c443ef9b5adf4c29bb1d90": {
          "model_module": "@jupyter-widgets/controls",
          "model_name": "HTMLModel",
          "model_module_version": "1.5.0",
          "state": {
            "_dom_classes": [],
            "_model_module": "@jupyter-widgets/controls",
            "_model_module_version": "1.5.0",
            "_model_name": "HTMLModel",
            "_view_count": null,
            "_view_module": "@jupyter-widgets/controls",
            "_view_module_version": "1.5.0",
            "_view_name": "HTMLView",
            "description": "",
            "description_tooltip": null,
            "layout": "IPY_MODEL_721aeda3a4494ca48cd05b1ff254c57d",
            "placeholder": "​",
            "style": "IPY_MODEL_662913c46f67401c8ccbd96f9e8f233d",
            "value": "Training Progress: 100%"
          }
        },
        "c301c87e98434873acecb6e540153933": {
          "model_module": "@jupyter-widgets/controls",
          "model_name": "FloatProgressModel",
          "model_module_version": "1.5.0",
          "state": {
            "_dom_classes": [],
            "_model_module": "@jupyter-widgets/controls",
            "_model_module_version": "1.5.0",
            "_model_name": "FloatProgressModel",
            "_view_count": null,
            "_view_module": "@jupyter-widgets/controls",
            "_view_module_version": "1.5.0",
            "_view_name": "ProgressView",
            "bar_style": "success",
            "description": "",
            "description_tooltip": null,
            "layout": "IPY_MODEL_7562dcbf3f99488da9939d5d434641b4",
            "max": 10,
            "min": 0,
            "orientation": "horizontal",
            "style": "IPY_MODEL_136d68ba50044df6a13013244ddb3ebf",
            "value": 10
          }
        },
        "04a46ace6b83487f89cb08469be60ce1": {
          "model_module": "@jupyter-widgets/controls",
          "model_name": "HTMLModel",
          "model_module_version": "1.5.0",
          "state": {
            "_dom_classes": [],
            "_model_module": "@jupyter-widgets/controls",
            "_model_module_version": "1.5.0",
            "_model_name": "HTMLModel",
            "_view_count": null,
            "_view_module": "@jupyter-widgets/controls",
            "_view_module_version": "1.5.0",
            "_view_name": "HTMLView",
            "description": "",
            "description_tooltip": null,
            "layout": "IPY_MODEL_169847f1a7b044b9bce104a3927bbd0c",
            "placeholder": "​",
            "style": "IPY_MODEL_95f48c44557c447c8062759831fe825a",
            "value": " 10/10 [18:13&lt;00:00, 108.29s/it]"
          }
        },
        "8371e46d6b01475b9227bf46f759153b": {
          "model_module": "@jupyter-widgets/base",
          "model_name": "LayoutModel",
          "model_module_version": "1.2.0",
          "state": {
            "_model_module": "@jupyter-widgets/base",
            "_model_module_version": "1.2.0",
            "_model_name": "LayoutModel",
            "_view_count": null,
            "_view_module": "@jupyter-widgets/base",
            "_view_module_version": "1.2.0",
            "_view_name": "LayoutView",
            "align_content": null,
            "align_items": null,
            "align_self": null,
            "border": null,
            "bottom": null,
            "display": null,
            "flex": null,
            "flex_flow": null,
            "grid_area": null,
            "grid_auto_columns": null,
            "grid_auto_flow": null,
            "grid_auto_rows": null,
            "grid_column": null,
            "grid_gap": null,
            "grid_row": null,
            "grid_template_areas": null,
            "grid_template_columns": null,
            "grid_template_rows": null,
            "height": null,
            "justify_content": null,
            "justify_items": null,
            "left": null,
            "margin": null,
            "max_height": null,
            "max_width": null,
            "min_height": null,
            "min_width": null,
            "object_fit": null,
            "object_position": null,
            "order": null,
            "overflow": null,
            "overflow_x": null,
            "overflow_y": null,
            "padding": null,
            "right": null,
            "top": null,
            "visibility": null,
            "width": null
          }
        },
        "721aeda3a4494ca48cd05b1ff254c57d": {
          "model_module": "@jupyter-widgets/base",
          "model_name": "LayoutModel",
          "model_module_version": "1.2.0",
          "state": {
            "_model_module": "@jupyter-widgets/base",
            "_model_module_version": "1.2.0",
            "_model_name": "LayoutModel",
            "_view_count": null,
            "_view_module": "@jupyter-widgets/base",
            "_view_module_version": "1.2.0",
            "_view_name": "LayoutView",
            "align_content": null,
            "align_items": null,
            "align_self": null,
            "border": null,
            "bottom": null,
            "display": null,
            "flex": null,
            "flex_flow": null,
            "grid_area": null,
            "grid_auto_columns": null,
            "grid_auto_flow": null,
            "grid_auto_rows": null,
            "grid_column": null,
            "grid_gap": null,
            "grid_row": null,
            "grid_template_areas": null,
            "grid_template_columns": null,
            "grid_template_rows": null,
            "height": null,
            "justify_content": null,
            "justify_items": null,
            "left": null,
            "margin": null,
            "max_height": null,
            "max_width": null,
            "min_height": null,
            "min_width": null,
            "object_fit": null,
            "object_position": null,
            "order": null,
            "overflow": null,
            "overflow_x": null,
            "overflow_y": null,
            "padding": null,
            "right": null,
            "top": null,
            "visibility": null,
            "width": null
          }
        },
        "662913c46f67401c8ccbd96f9e8f233d": {
          "model_module": "@jupyter-widgets/controls",
          "model_name": "DescriptionStyleModel",
          "model_module_version": "1.5.0",
          "state": {
            "_model_module": "@jupyter-widgets/controls",
            "_model_module_version": "1.5.0",
            "_model_name": "DescriptionStyleModel",
            "_view_count": null,
            "_view_module": "@jupyter-widgets/base",
            "_view_module_version": "1.2.0",
            "_view_name": "StyleView",
            "description_width": ""
          }
        },
        "7562dcbf3f99488da9939d5d434641b4": {
          "model_module": "@jupyter-widgets/base",
          "model_name": "LayoutModel",
          "model_module_version": "1.2.0",
          "state": {
            "_model_module": "@jupyter-widgets/base",
            "_model_module_version": "1.2.0",
            "_model_name": "LayoutModel",
            "_view_count": null,
            "_view_module": "@jupyter-widgets/base",
            "_view_module_version": "1.2.0",
            "_view_name": "LayoutView",
            "align_content": null,
            "align_items": null,
            "align_self": null,
            "border": null,
            "bottom": null,
            "display": null,
            "flex": null,
            "flex_flow": null,
            "grid_area": null,
            "grid_auto_columns": null,
            "grid_auto_flow": null,
            "grid_auto_rows": null,
            "grid_column": null,
            "grid_gap": null,
            "grid_row": null,
            "grid_template_areas": null,
            "grid_template_columns": null,
            "grid_template_rows": null,
            "height": null,
            "justify_content": null,
            "justify_items": null,
            "left": null,
            "margin": null,
            "max_height": null,
            "max_width": null,
            "min_height": null,
            "min_width": null,
            "object_fit": null,
            "object_position": null,
            "order": null,
            "overflow": null,
            "overflow_x": null,
            "overflow_y": null,
            "padding": null,
            "right": null,
            "top": null,
            "visibility": null,
            "width": null
          }
        },
        "136d68ba50044df6a13013244ddb3ebf": {
          "model_module": "@jupyter-widgets/controls",
          "model_name": "ProgressStyleModel",
          "model_module_version": "1.5.0",
          "state": {
            "_model_module": "@jupyter-widgets/controls",
            "_model_module_version": "1.5.0",
            "_model_name": "ProgressStyleModel",
            "_view_count": null,
            "_view_module": "@jupyter-widgets/base",
            "_view_module_version": "1.2.0",
            "_view_name": "StyleView",
            "bar_color": null,
            "description_width": ""
          }
        },
        "169847f1a7b044b9bce104a3927bbd0c": {
          "model_module": "@jupyter-widgets/base",
          "model_name": "LayoutModel",
          "model_module_version": "1.2.0",
          "state": {
            "_model_module": "@jupyter-widgets/base",
            "_model_module_version": "1.2.0",
            "_model_name": "LayoutModel",
            "_view_count": null,
            "_view_module": "@jupyter-widgets/base",
            "_view_module_version": "1.2.0",
            "_view_name": "LayoutView",
            "align_content": null,
            "align_items": null,
            "align_self": null,
            "border": null,
            "bottom": null,
            "display": null,
            "flex": null,
            "flex_flow": null,
            "grid_area": null,
            "grid_auto_columns": null,
            "grid_auto_flow": null,
            "grid_auto_rows": null,
            "grid_column": null,
            "grid_gap": null,
            "grid_row": null,
            "grid_template_areas": null,
            "grid_template_columns": null,
            "grid_template_rows": null,
            "height": null,
            "justify_content": null,
            "justify_items": null,
            "left": null,
            "margin": null,
            "max_height": null,
            "max_width": null,
            "min_height": null,
            "min_width": null,
            "object_fit": null,
            "object_position": null,
            "order": null,
            "overflow": null,
            "overflow_x": null,
            "overflow_y": null,
            "padding": null,
            "right": null,
            "top": null,
            "visibility": null,
            "width": null
          }
        },
        "95f48c44557c447c8062759831fe825a": {
          "model_module": "@jupyter-widgets/controls",
          "model_name": "DescriptionStyleModel",
          "model_module_version": "1.5.0",
          "state": {
            "_model_module": "@jupyter-widgets/controls",
            "_model_module_version": "1.5.0",
            "_model_name": "DescriptionStyleModel",
            "_view_count": null,
            "_view_module": "@jupyter-widgets/base",
            "_view_module_version": "1.2.0",
            "_view_name": "StyleView",
            "description_width": ""
          }
        }
      }
    }
  },
  "nbformat": 4,
  "nbformat_minor": 0
}